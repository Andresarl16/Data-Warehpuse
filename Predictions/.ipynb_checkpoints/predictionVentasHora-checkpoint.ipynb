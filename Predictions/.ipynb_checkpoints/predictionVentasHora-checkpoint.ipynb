{
 "cells": [
  {
   "cell_type": "markdown",
   "metadata": {},
   "source": [
    "# MODELO PREDICTIVO PARA LAS VENTAS GENERADAS EN WALMART PARA CADA HORA DE TRABAJO"
   ]
  },
  {
   "cell_type": "markdown",
   "metadata": {},
   "source": [
    "## Importar Librerias"
   ]
  },
  {
   "cell_type": "code",
   "execution_count": 166,
   "metadata": {},
   "outputs": [],
   "source": [
    "import numpy as np\n",
    "import pandas as pd\n",
    "import matplotlib.pyplot as plt\n",
    "from sklearn import linear_model\n",
    "from sklearn.linear_model import LinearRegression\n",
    "from sklearn.model_selection import train_test_split\n",
    "from sklearn.preprocessing import MinMaxScaler\n",
    "from statsmodels.tools.eval_measures import rmse"
   ]
  },
  {
   "cell_type": "code",
   "execution_count": 162,
   "metadata": {},
   "outputs": [],
   "source": [
    "import psycopg2"
   ]
  },
  {
   "cell_type": "markdown",
   "metadata": {},
   "source": [
    "## Credenciales de la BD"
   ]
  },
  {
   "cell_type": "code",
   "execution_count": 5,
   "metadata": {},
   "outputs": [],
   "source": [
    "user = 'kzvwgmey'\n",
    "dbname = 'kzvwgmey'\n",
    "host = 'batyr.db.elephantsql.com'\n",
    "password = 'Fch8wl_TUVAul6pV-1z4Z-fXyKwEBPRs'\n",
    "\n",
    "myConnection = psycopg2.connect(host = host, user = user, password = password, dbname = dbname)\n"
   ]
  },
  {
   "cell_type": "markdown",
   "metadata": {},
   "source": [
    "## Funcion para ejecutar Querys Select"
   ]
  },
  {
   "cell_type": "code",
   "execution_count": 11,
   "metadata": {},
   "outputs": [],
   "source": [
    "def SelectAllQuery(query):\n",
    "    cur = myConnection.cursor()\n",
    "    try:\n",
    "        cur.execute(query)\n",
    "        data = cur.fetchall()\n",
    "        colnames = [desc[0] for desc in cur.description]\n",
    "    except Exception as e:\n",
    "        myConnection.commit()\n",
    "        print('Error en el query:', e)\n",
    "    else:\n",
    "        cur.close()\n",
    "        myConnection.commit()\n",
    "        \n",
    "        return(data,colnames) "
   ]
  },
  {
   "cell_type": "markdown",
   "metadata": {},
   "source": [
    "## Query a utilizar"
   ]
  },
  {
   "cell_type": "code",
   "execution_count": 157,
   "metadata": {},
   "outputs": [],
   "source": [
    "queryVentas = f'''\n",
    "  SELECT  SUM((unidades*precio)) AS \"venta\", anio, mes, semana, dia,hora FROM \"Hechos_Ventas\"\n",
    "  INNER JOIN \"Dimension_Tiempo_Ventas\" USING (id_dtiempo)\n",
    "  INNER JOIN \"Dimension_Producto\" USING (id_dproducto)\n",
    "  GROUP BY anio, mes,semana, dia, hora\n",
    "  HAVING SUM((unidades*precio)) > 0 \n",
    "  ORDER BY anio, mes, semana, dia, hora;\n",
    "  '''\n",
    "hechosVentas = SelectAllQuery(queryVentas)\n",
    "dfHechosVentas = pd.DataFrame(hechosVentas[0], columns = hechosVentas[1])"
   ]
  },
  {
   "cell_type": "markdown",
   "metadata": {},
   "source": [
    "## Dividir DataFrame"
   ]
  },
  {
   "cell_type": "code",
   "execution_count": 49,
   "metadata": {},
   "outputs": [],
   "source": [
    "X = dfHechosVentas['hora'].values.reshape(-1,1) \n",
    "y = dfHechosVentas['venta'].values"
   ]
  },
  {
   "cell_type": "markdown",
   "metadata": {},
   "source": [
    "## Setear data de testeo y data de entrenamiento"
   ]
  },
  {
   "cell_type": "code",
   "execution_count": 150,
   "metadata": {},
   "outputs": [],
   "source": [
    "X_train, X_test, y_train, y_test = train_test_split(X, y, train_size=0.85, random_state=0)"
   ]
  },
  {
   "cell_type": "markdown",
   "metadata": {},
   "source": [
    "## Crear la regresion"
   ]
  },
  {
   "cell_type": "code",
   "execution_count": 160,
   "metadata": {},
   "outputs": [
    {
     "data": {
      "text/plain": [
       "LinearRegression()"
      ]
     },
     "execution_count": 160,
     "metadata": {},
     "output_type": "execute_result"
    }
   ],
   "source": [
    "regresor = LinearRegression()\n",
    "regresor.fit(X_train, y_train)"
   ]
  },
  {
   "cell_type": "markdown",
   "metadata": {},
   "source": [
    "## Entrenar la regresion y generar predicciones"
   ]
  },
  {
   "cell_type": "code",
   "execution_count": 165,
   "metadata": {},
   "outputs": [],
   "source": [
    "y_fit = regresor.predict(X_train) \n",
    "y_pred = regresor.predict(X_test)"
   ]
  },
  {
   "cell_type": "markdown",
   "metadata": {},
   "source": [
    "## Grafico de la regresion"
   ]
  },
  {
   "cell_type": "code",
   "execution_count": 161,
   "metadata": {},
   "outputs": [
    {
     "data": {
      "image/png": "[encoded data removed]",
      "text/plain": [
       "<Figure size 432x288 with 1 Axes>"
      ]
     },
     "metadata": {
      "needs_background": "light"
     },
     "output_type": "display_data"
    }
   ],
   "source": [
    "plt.scatter(X, y, alpha=0.35)\n",
    "plt.plot(X_test, y_pred, color='red', linewidth=3)\n",
    "plt.title('Ventas de la compañia segun la hora d')\n",
    "plt.xlabel('Hora')\n",
    "plt.ylabel('Ventas')\n",
    "plt.show()"
   ]
  },
  {
   "cell_type": "markdown",
   "metadata": {},
   "source": [
    "### FUNCION PARA PROBAR LA PREDICCION"
   ]
  },
  {
   "cell_type": "code",
   "execution_count": 141,
   "metadata": {},
   "outputs": [],
   "source": [
    "def prediccion(numero):\n",
    "    if numero < 9 or numero > 20:\n",
    "        return ('A esta hora no se trabaja, se venden $0')\n",
    "    return f'A la hora militar {numero} se predice que se venderan ${\"{0:.2f}\".format(y_pred[numero-9])}'"
   ]
  },
  {
   "cell_type": "markdown",
   "metadata": {},
   "source": [
    "#### CORRA EL SIGUIENTE CODIGO PARA PROBAR EL FUNCIONAMIENTO DE LA REGRESION LINEAL"
   ]
  },
  {
   "cell_type": "code",
   "execution_count": 164,
   "metadata": {},
   "outputs": [
    {
     "name": "stdin",
     "output_type": "stream",
     "text": [
      "Ingrese una hora entre las 9 y las 20 para predecir cuanto dinero se vendera en la tienda a esa hora:\n",
      " 9\n"
     ]
    },
    {
     "name": "stdout",
     "output_type": "stream",
     "text": [
      "A la hora militar 9 se predice que se venderan $1321.24\n"
     ]
    }
   ],
   "source": [
    "num = input('Ingrese una hora entre las 9 y las 20 para predecir cuanto dinero se vendera en la tienda a esa hora:\\n')\n",
    "print(prediccion(int(num))) if num.isdigit() else print('Tiene que ser un numero entero entre el 9 y el 20, intente de nuevo')"
   ]
  },
  {
   "cell_type": "code",
   "execution_count": null,
   "metadata": {},
   "outputs": [],
   "source": []
  }
 ],
 "metadata": {
  "kernelspec": {
   "display_name": "Python 3",
   "language": "python",
   "name": "python3"
  },
  "language_info": {
   "codemirror_mode": {
    "name": "ipython",
    "version": 3
   },
   "file_extension": ".py",
   "mimetype": "text/x-python",
   "name": "python",
   "nbconvert_exporter": "python",
   "pygments_lexer": "ipython3",
   "version": "3.8.5"
  }
 },
 "nbformat": 4,
 "nbformat_minor": 4
}
