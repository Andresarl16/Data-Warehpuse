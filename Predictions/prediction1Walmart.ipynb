{
 "cells": [
  {
   "cell_type": "code",
   "execution_count": 1,
   "metadata": {},
   "outputs": [
    {
     "name": "stdout",
     "output_type": "stream",
     "text": [
      "Walmart es zona de gente seria\n"
     ]
    }
   ],
   "source": [
    "print('Walmart es zona de gente seria')"
   ]
  },
  {
   "cell_type": "code",
   "execution_count": 73,
   "metadata": {},
   "outputs": [],
   "source": [
    "import numpy as np\n",
    "import pandas as pd\n",
    "import matplotlib.pyplot as plt\n",
    "from sklearn import linear_model\n",
    "from sklearn.model_selection import train_test_split\n",
    "from sklearn.preprocessing import MinMaxScaler"
   ]
  },
  {
   "cell_type": "code",
   "execution_count": 3,
   "metadata": {},
   "outputs": [],
   "source": [
    "import psycopg2\n"
   ]
  },
  {
   "cell_type": "code",
   "execution_count": 5,
   "metadata": {},
   "outputs": [],
   "source": [
    "user = 'kzvwgmey'\n",
    "dbname = 'kzvwgmey'\n",
    "host = 'batyr.db.elephantsql.com'\n",
    "password = 'Fch8wl_TUVAul6pV-1z4Z-fXyKwEBPRs'\n",
    "\n",
    "myConnection = psycopg2.connect(host = host, user = user, password = password, dbname = dbname)\n"
   ]
  },
  {
   "cell_type": "code",
   "execution_count": 11,
   "metadata": {},
   "outputs": [],
   "source": [
    "def SelectAllQuery(query):\n",
    "    cur = myConnection.cursor()\n",
    "    try:\n",
    "        cur.execute(query)\n",
    "        data = cur.fetchall()\n",
    "        colnames = [desc[0] for desc in cur.description]\n",
    "    except Exception as e:\n",
    "        myConnection.commit()\n",
    "        print('Error en el query:', e)\n",
    "    else:\n",
    "        cur.close()\n",
    "        myConnection.commit()\n",
    "        \n",
    "        return(data,colnames) "
   ]
  },
  {
   "cell_type": "code",
   "execution_count": 35,
   "metadata": {},
   "outputs": [
    {
     "name": "stdout",
     "output_type": "stream",
     "text": [
      "     id_dtiempo  id_hventas  id_dtienda  id_dproducto  id_dmarca  unidades  \\\n",
      "0            14           1           1             3          8         4   \n",
      "1           213           2           1             3          8         4   \n",
      "2            14           3           1            37          1         8   \n",
      "3           213           4           1            37          1         8   \n",
      "4            14           5           1            59         16         8   \n",
      "..          ...         ...         ...           ...        ...       ...   \n",
      "983         212         984           2           100          7         0   \n",
      "984         354         985           2           100          7         0   \n",
      "985         356         986           2           100          7         0   \n",
      "986         357         987           2           100          7        12   \n",
      "987         357         988           2           100          7        12   \n",
      "\n",
      "     anio  mes  semana  dia  hora  \n",
      "0    2021    6      24    7     9  \n",
      "1    2021    6      24    7     9  \n",
      "2    2021    6      24    7     9  \n",
      "3    2021    6      24    7     9  \n",
      "4    2021    6      24    7     9  \n",
      "..    ...  ...     ...  ...   ...  \n",
      "983  2021    6      26    2    10  \n",
      "984  2021    6      26    2    10  \n",
      "985  2021    6      26    2    10  \n",
      "986  2021    6      26    2    12  \n",
      "987  2021    6      26    2    12  \n",
      "\n",
      "[988 rows x 11 columns]\n"
     ]
    }
   ],
   "source": [
    "queryStore = f'''\n",
    "  SELECT * FROM \"Hechos_Ventas\"\n",
    "  INNER JOIN \"Dimension_Tiempo_Ventas\" USING (id_dtiempo)\n",
    "  '''\n",
    "hechosVentas = SelectAllQuery(queryStore)\n",
    "dfHechosVentas = pd.DataFrame(hechosVentas[0], columns = hechosVentas[1])\n",
    "print(dfHechosVentas)"
   ]
  },
  {
   "cell_type": "code",
   "execution_count": 48,
   "metadata": {},
   "outputs": [
    {
     "name": "stdout",
     "output_type": "stream",
     "text": [
      "      venta  anio  mes  semana  dia  hora\n",
      "0   1063.08  2021    6      24    7     9\n",
      "1     36.90  2021    6      24    7    11\n",
      "2    885.60  2021    6      24    7    13\n",
      "3    328.00  2021    6      24    7    15\n",
      "4    738.00  2021    6      24    7    16\n",
      "..      ...   ...  ...     ...  ...   ...\n",
      "69  2361.60  2021    6      25    7    15\n",
      "70    73.80  2021    6      25    7    16\n",
      "71   131.20  2021    6      25    7    17\n",
      "72    32.80  2021    6      25    7    18\n",
      "73    98.40  2021    6      26    2    12\n",
      "\n",
      "[74 rows x 6 columns]\n"
     ]
    }
   ],
   "source": [
    "queryStore = f'''\n",
    "  SELECT  SUM((unidades*precio)) AS \"venta\", anio, mes, semana, dia,hora FROM \"Hechos_Ventas\"\n",
    "  INNER JOIN \"Dimension_Tiempo_Ventas\" USING (id_dtiempo)\n",
    "  INNER JOIN \"Dimension_Producto\" USING (id_dproducto)\n",
    "  GROUP BY anio, mes,semana, dia, hora\n",
    "  HAVING SUM((unidades*precio)) > 0 \n",
    "  ORDER BY anio, mes, semana, dia, hora\n",
    "  '''\n",
    "hechosVentas = SelectAllQuery(queryStore)\n",
    "dfHechosVentas = pd.DataFrame(hechosVentas[0], columns = hechosVentas[1])\n",
    "print(dfHechosVentas)"
   ]
  },
  {
   "cell_type": "code",
   "execution_count": 49,
   "metadata": {},
   "outputs": [],
   "source": [
    "X = dfHechosVentas['hora'].values.reshape(-1,1) # Como X solo tiene 1 tenemos que 'reshape' para asegurar que siga siendo una matrix (array) y no un vector (-1,)\n",
    "y = dfHechosVentas['venta'].values"
   ]
  },
  {
   "cell_type": "code",
   "execution_count": 50,
   "metadata": {},
   "outputs": [
    {
     "data": {
      "text/plain": [
       "(74, 1)"
      ]
     },
     "execution_count": 50,
     "metadata": {},
     "output_type": "execute_result"
    }
   ],
   "source": [
    "X.shape"
   ]
  },
  {
   "cell_type": "code",
   "execution_count": 51,
   "metadata": {},
   "outputs": [
    {
     "data": {
      "text/plain": [
       "(74,)"
      ]
     },
     "execution_count": 51,
     "metadata": {},
     "output_type": "execute_result"
    }
   ],
   "source": [
    "y.shape"
   ]
  },
  {
   "cell_type": "code",
   "execution_count": 52,
   "metadata": {},
   "outputs": [
    {
     "name": "stdout",
     "output_type": "stream",
     "text": [
      "La forma de X_train es:  (62, 1)\n",
      "La forma de y_train es:  (62,)\n",
      "La forma de X_test es:  (12, 1)\n",
      "La forma de y_test es:  (12,)\n"
     ]
    }
   ],
   "source": [
    "X_train, X_test, y_train, y_test = train_test_split(X, y, train_size=0.85, random_state=0)\n",
    "print('La forma de X_train es: ', X_train.shape)\n",
    "print('La forma de y_train es: ', y_train.shape)\n",
    "print('La forma de X_test es: ', X_test.shape)\n",
    "print('La forma de y_test es: ', y_test.shape)"
   ]
  },
  {
   "cell_type": "code",
   "execution_count": 53,
   "metadata": {},
   "outputs": [
    {
     "data": {
      "text/plain": [
       "LinearRegression()"
      ]
     },
     "execution_count": 53,
     "metadata": {},
     "output_type": "execute_result"
    }
   ],
   "source": [
    "from sklearn.linear_model import LinearRegression\n",
    "regresor = LinearRegression()\n",
    "regresor.fit(X_train, y_train)"
   ]
  },
  {
   "cell_type": "code",
   "execution_count": 78,
   "metadata": {},
   "outputs": [],
   "source": [
    "y_fit = regresor.predict(X_train)\n",
    "y_pred = regresor.predict(X_test) "
   ]
  },
  {
   "cell_type": "code",
   "execution_count": 71,
   "metadata": {},
   "outputs": [
    {
     "data": {
      "image/png": "[encoded data removed]",
      "text/plain": [
       "<Figure size 432x288 with 1 Axes>"
      ]
     },
     "metadata": {
      "needs_background": "light"
     },
     "output_type": "display_data"
    }
   ],
   "source": [
    "\n",
    "\n",
    "plt.scatter(X, y, alpha=0.35)\n",
    "plt.plot(X_test, y_pred, color='red', linewidth=3)\n",
    "plt.title('Regresion Lineal de ventas en la compañia según la hora')\n",
    "plt.xlabel('Hora')\n",
    "plt.ylabel('Ventas')\n",
    "plt.show()"
   ]
  },
  {
   "cell_type": "code",
   "execution_count": null,
   "metadata": {},
   "outputs": [],
   "source": []
  },
  {
   "cell_type": "code",
   "execution_count": 74,
   "metadata": {},
   "outputs": [],
   "source": [
    "lr = linear_model.LinearRegression() ##Declaración del algoritmo a utilizar."
   ]
  },
  {
   "cell_type": "code",
   "execution_count": 76,
   "metadata": {},
   "outputs": [],
   "source": [
    "Y_pred = regresor.predict(X_test)"
   ]
  },
  {
   "cell_type": "code",
   "execution_count": 79,
   "metadata": {},
   "outputs": [
    {
     "data": {
      "text/plain": [
       "array([1321.24019858,  908.36609592, 1114.80314725,  908.36609592,\n",
       "       1527.67724991,  598.71051892, 1424.45872424, 1218.02167291,\n",
       "        701.92904459,  598.71051892, 1011.58462158,  598.71051892])"
      ]
     },
     "execution_count": 79,
     "metadata": {},
     "output_type": "execute_result"
    }
   ],
   "source": [
    "y_pred"
   ]
  },
  {
   "cell_type": "code",
   "execution_count": 141,
   "metadata": {},
   "outputs": [],
   "source": [
    "def prediccion(numero):\n",
    "    if numero < 9 or numero > 20:\n",
    "        return ('A esta hora no se trabaja, se venden $0')\n",
    "    return f'A la hora militar {numero} se predice que se venderan ${\"{0:.2f}\".format(y_pred[numero-9])}'"
   ]
  },
  {
   "cell_type": "code",
   "execution_count": 146,
   "metadata": {},
   "outputs": [
    {
     "name": "stdin",
     "output_type": "stream",
     "text": [
      "Ingrese una hora entre las 9 y las 20 para predecir cuanto dinero se vendera en la tienda a esa hora:\n",
      " 21\n"
     ]
    },
    {
     "name": "stdout",
     "output_type": "stream",
     "text": [
      "A esta hora no se trabaja, se venden $0\n"
     ]
    }
   ],
   "source": [
    "num = input('Ingrese una hora entre las 9 y las 20 para predecir cuanto dinero se vendera en la tienda a esa hora:\\n')\n",
    "print(prediccion(int(num))) if num.isdigit() else print('Tiene que ser un numero entero entre el 9 y el 20, intente de nuevo')"
   ]
  },
  {
   "cell_type": "code",
   "execution_count": 124,
   "metadata": {},
   "outputs": [
    {
     "name": "stdin",
     "output_type": "stream",
     "text": [
      "es decimal? 20\n"
     ]
    },
    {
     "name": "stdout",
     "output_type": "stream",
     "text": [
      "True\n"
     ]
    }
   ],
   "source": [
    "a = input ('es decimal?')\n",
    "print(a.isdigit())"
   ]
  },
  {
   "cell_type": "code",
   "execution_count": null,
   "metadata": {},
   "outputs": [],
   "source": []
  }
 ],
 "metadata": {
  "kernelspec": {
   "display_name": "Python 3",
   "language": "python",
   "name": "python3"
  },
  "language_info": {
   "codemirror_mode": {
    "name": "ipython",
    "version": 3
   },
   "file_extension": ".py",
   "mimetype": "text/x-python",
   "name": "python",
   "nbconvert_exporter": "python",
   "pygments_lexer": "ipython3",
   "version": "3.8.5"
  }
 },
 "nbformat": 4,
 "nbformat_minor": 4
}
